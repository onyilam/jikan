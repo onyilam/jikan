{
 "cells": [
  {
   "cell_type": "code",
   "execution_count": 145,
   "metadata": {},
   "outputs": [],
   "source": [
    "from fastai.collab import * \n",
    "import pandas as pd\n",
    "import codecs\n",
    "import numpy as np\n",
    "\n",
    "from sklearn.metrics.pairwise import cosine_similarity\n",
    "from scipy import sparse"
   ]
  },
  {
   "cell_type": "code",
   "execution_count": 207,
   "metadata": {},
   "outputs": [
    {
     "data": {
      "text/plain": [
       "3137"
      ]
     },
     "execution_count": 207,
     "metadata": {},
     "output_type": "execute_result"
    }
   ],
   "source": [
    "## import citation data, and only use econ journals for training\n",
    "df = pd.read_json(codecs.open('data/dblp-ref-1.json', 'r', 'utf-8'), orient = 'columns', lines = True)\n",
    "temp = df[df['venue'].str.contains('Econ')]\n",
    "df = pd.read_json(codecs.open('data/dblp-ref-2.json', 'r', 'utf-8'), orient = 'columns', lines = True)\n",
    "df = df[df['venue'].str.contains('Econ')]\n",
    "temp = temp.append(df)\n",
    "df = pd.read_json(codecs.open('data/dblp-ref-0.json', 'r', 'utf-8'), orient = 'columns', lines = True)\n",
    "df = df[df['venue'].str.contains('Econ')]\n",
    "temp = temp.append(df)\n",
    "df = pd.read_json(codecs.open('data/dblp-ref-3.json', 'r', 'utf-8'), orient = 'columns', lines = True)\n",
    "df = df[df['venue'].str.contains('Econ')]\n",
    "df = temp.append(df)\n",
    "len(df)"
   ]
  },
  {
   "cell_type": "code",
   "execution_count": 147,
   "metadata": {},
   "outputs": [
    {
     "data": {
      "text/plain": [
       "array(['Information Economics and Policy', 'Games and Economic Behavior', 'Journal of Economic Theory',\n",
       "       'International Journal of Innovation in The Digital Economy', 'Energy Economics', 'Economics Letters',\n",
       "       'International Journal of Services, Economics and Management', 'Journal of Economic Education',\n",
       "       'International Journal of Production Economics', 'European Economic Review', 'Research in Economics',\n",
       "       'Society and Economy', 'The American Economic Review', 'Journal of Regulatory Economics', 'Economic Theory',\n",
       "       'Econometrica', 'Journal of Mathematical Economics', 'International Journal of Economic Theory',\n",
       "       'B E Journal of Theoretical Economics', 'Journal of Economic Geography', 'Resource and Energy Economics',\n",
       "       'Applied Economics Letters', 'Journal of Economic Psychology', 'Economic Systems Research',\n",
       "       'Journal of Public Economic Theory', 'arXiv: Economics', 'Economics Bulletin',\n",
       "       'Journal of Economic Behavior and Organization', 'Feminist Economics', 'Insurance Mathematics & Economics',\n",
       "       'Journal of The Knowledge Economy', 'Computational Economics', 'Annual Review of Economics',\n",
       "       'Explorations in Economic History', 'Networks and Spatial Economics', 'The Scandinavian Journal of Economics',\n",
       "       'Review of Economic Design', 'Journal of Public Economics', 'Journal of Evolutionary Economics',\n",
       "       'Journal of Economic Growth', 'Journal of Industrial Economics', 'Health Economics',\n",
       "       'Journal of Economic Interaction and Coordination', 'Quantitative Economics', 'Ecological Economics',\n",
       "       'International Review of Law and Economics'], dtype=object)"
      ]
     },
     "execution_count": 147,
     "metadata": {},
     "output_type": "execute_result"
    }
   ],
   "source": [
    "#print the economics journal titles in the dataset. \n",
    "df['venue'].unique()"
   ]
  },
  {
   "cell_type": "code",
   "execution_count": 209,
   "metadata": {},
   "outputs": [
    {
     "name": "stdout",
     "output_type": "stream",
     "text": [
      "1989 2017\n"
     ]
    }
   ],
   "source": [
    "print(df['year'].min(), df['year'].max())"
   ]
  },
  {
   "cell_type": "code",
   "execution_count": 95,
   "metadata": {},
   "outputs": [],
   "source": [
    "## references indicates the paper id that cite this paper"
   ]
  },
  {
   "cell_type": "code",
   "execution_count": 210,
   "metadata": {},
   "outputs": [
    {
     "data": {
      "text/plain": [
       "['46749b29-cdae-4d73-bd86-d867333e4216',\n",
       " 'a81ed3de-c0b4-4ca9-96f7-6ede5c5a21e8']"
      ]
     },
     "execution_count": 210,
     "metadata": {},
     "output_type": "execute_result"
    }
   ],
   "source": [
    "df.iloc[1]['references']"
   ]
  },
  {
   "cell_type": "code",
   "execution_count": 211,
   "metadata": {},
   "outputs": [],
   "source": [
    "temp = df"
   ]
  },
  {
   "cell_type": "code",
   "execution_count": 212,
   "metadata": {},
   "outputs": [],
   "source": [
    "## stack the references ids to each paper article.\n",
    "temp = (temp['references'].apply(lambda x: pd.Series(x))\n",
    "    .stack()\n",
    "    .reset_index(level=1, drop=True)\n",
    "    .to_frame('references')\n",
    "    .join(temp[['id']], how='left')\n",
    "    )"
   ]
  },
  {
   "cell_type": "code",
   "execution_count": 213,
   "metadata": {},
   "outputs": [
    {
     "data": {
      "text/plain": [
       "8786"
      ]
     },
     "execution_count": 213,
     "metadata": {},
     "output_type": "execute_result"
    }
   ],
   "source": [
    "len(temp)"
   ]
  },
  {
   "cell_type": "code",
   "execution_count": 214,
   "metadata": {},
   "outputs": [
    {
     "data": {
      "text/html": [
       "<div>\n",
       "<style scoped>\n",
       "    .dataframe tbody tr th:only-of-type {\n",
       "        vertical-align: middle;\n",
       "    }\n",
       "\n",
       "    .dataframe tbody tr th {\n",
       "        vertical-align: top;\n",
       "    }\n",
       "\n",
       "    .dataframe thead th {\n",
       "        text-align: right;\n",
       "    }\n",
       "</style>\n",
       "<table border=\"1\" class=\"dataframe\">\n",
       "  <thead>\n",
       "    <tr style=\"text-align: right;\">\n",
       "      <th></th>\n",
       "      <th>references</th>\n",
       "      <th>id</th>\n",
       "    </tr>\n",
       "  </thead>\n",
       "  <tbody>\n",
       "    <tr>\n",
       "      <th>1519</th>\n",
       "      <td>0d5240ff-33b9-48b7-8a04-776c5d9ad83a</td>\n",
       "      <td>4b3413bb-0d35-44c1-9ea5-6045e9ac78f8</td>\n",
       "    </tr>\n",
       "    <tr>\n",
       "      <th>1519</th>\n",
       "      <td>29914249-08ff-4a5a-aafe-048648ebde83</td>\n",
       "      <td>4b3413bb-0d35-44c1-9ea5-6045e9ac78f8</td>\n",
       "    </tr>\n",
       "    <tr>\n",
       "      <th>1519</th>\n",
       "      <td>3543a72d-adf3-4f9c-8c65-a11f36e99da6</td>\n",
       "      <td>4b3413bb-0d35-44c1-9ea5-6045e9ac78f8</td>\n",
       "    </tr>\n",
       "    <tr>\n",
       "      <th>1519</th>\n",
       "      <td>388b32cf-4c26-4fc6-ab20-24f6236279ac</td>\n",
       "      <td>4b3413bb-0d35-44c1-9ea5-6045e9ac78f8</td>\n",
       "    </tr>\n",
       "    <tr>\n",
       "      <th>1519</th>\n",
       "      <td>39c07aca-221e-4231-adbc-1a7c3968ca35</td>\n",
       "      <td>4b3413bb-0d35-44c1-9ea5-6045e9ac78f8</td>\n",
       "    </tr>\n",
       "  </tbody>\n",
       "</table>\n",
       "</div>"
      ],
      "text/plain": [
       "                                references  \\\n",
       "1519  0d5240ff-33b9-48b7-8a04-776c5d9ad83a   \n",
       "1519  29914249-08ff-4a5a-aafe-048648ebde83   \n",
       "1519  3543a72d-adf3-4f9c-8c65-a11f36e99da6   \n",
       "1519  388b32cf-4c26-4fc6-ab20-24f6236279ac   \n",
       "1519  39c07aca-221e-4231-adbc-1a7c3968ca35   \n",
       "\n",
       "                                        id  \n",
       "1519  4b3413bb-0d35-44c1-9ea5-6045e9ac78f8  \n",
       "1519  4b3413bb-0d35-44c1-9ea5-6045e9ac78f8  \n",
       "1519  4b3413bb-0d35-44c1-9ea5-6045e9ac78f8  \n",
       "1519  4b3413bb-0d35-44c1-9ea5-6045e9ac78f8  \n",
       "1519  4b3413bb-0d35-44c1-9ea5-6045e9ac78f8  "
      ]
     },
     "execution_count": 214,
     "metadata": {},
     "output_type": "execute_result"
    }
   ],
   "source": [
    "temp.head()"
   ]
  },
  {
   "cell_type": "code",
   "execution_count": 217,
   "metadata": {},
   "outputs": [],
   "source": [
    "#equal rating for each citation\n",
    "temp['rating'] = 1 "
   ]
  },
  {
   "cell_type": "code",
   "execution_count": 123,
   "metadata": {},
   "outputs": [],
   "source": [
    "df2 = CollabDataBunch.from_df(temp, valid_pct = 0.1)"
   ]
  },
  {
   "cell_type": "code",
   "execution_count": 124,
   "metadata": {},
   "outputs": [
    {
     "data": {
      "text/html": [
       "<table border=\"1\" class=\"dataframe\">\n",
       "  <thead>\n",
       "    <tr style=\"text-align: right;\">\n",
       "      <th>references</th>\n",
       "      <th>id</th>\n",
       "      <th>target</th>\n",
       "    </tr>\n",
       "  </thead>\n",
       "  <tbody>\n",
       "    <tr>\n",
       "      <td>f33c168b-4179-4534-adf0-e1d768c4a386</td>\n",
       "      <td>d5458e38-a88a-4413-bdd6-88c5fd0047d4</td>\n",
       "      <td>1.0</td>\n",
       "    </tr>\n",
       "    <tr>\n",
       "      <td>b4194a36-0173-4059-95c3-23c58636ed23</td>\n",
       "      <td>633cfbb5-c612-4aee-b8a0-94171cfefa15</td>\n",
       "      <td>1.0</td>\n",
       "    </tr>\n",
       "    <tr>\n",
       "      <td>fe8753fe-2f8c-4d08-aeb6-519e011d74ea</td>\n",
       "      <td>06b01493-30ef-4acf-94ad-efa4acb3b0c6</td>\n",
       "      <td>1.0</td>\n",
       "    </tr>\n",
       "    <tr>\n",
       "      <td>a6b35d2a-121f-47b6-b16b-05ee8101499c</td>\n",
       "      <td>de7c0534-19c1-4496-b38e-ed195444ecf1</td>\n",
       "      <td>1.0</td>\n",
       "    </tr>\n",
       "    <tr>\n",
       "      <td>462f6079-ac51-4075-a9c8-8b2eebf6f46e</td>\n",
       "      <td>14e09c13-e321-4c93-a18d-e81906939fec</td>\n",
       "      <td>1.0</td>\n",
       "    </tr>\n",
       "  </tbody>\n",
       "</table>"
      ],
      "text/plain": [
       "<IPython.core.display.HTML object>"
      ]
     },
     "metadata": {},
     "output_type": "display_data"
    }
   ],
   "source": [
    "df2.show_batch()"
   ]
  },
  {
   "cell_type": "code",
   "execution_count": 125,
   "metadata": {},
   "outputs": [],
   "source": [
    "learn = collab_learner(df2, n_factors = 40)"
   ]
  },
  {
   "cell_type": "code",
   "execution_count": 126,
   "metadata": {},
   "outputs": [
    {
     "data": {
      "text/html": [],
      "text/plain": [
       "<IPython.core.display.HTML object>"
      ]
     },
     "metadata": {},
     "output_type": "display_data"
    },
    {
     "name": "stdout",
     "output_type": "stream",
     "text": [
      "LR Finder is complete, type {learner_name}.recorder.plot() to see the graph.\n"
     ]
    }
   ],
   "source": [
    "learn.lr_find()"
   ]
  },
  {
   "cell_type": "code",
   "execution_count": 48,
   "metadata": {},
   "outputs": [
    {
     "data": {
      "image/png": "[encoded data removed]",
      "text/plain": [
       "<Figure size 432x288 with 1 Axes>"
      ]
     },
     "metadata": {
      "needs_background": "light"
     },
     "output_type": "display_data"
    }
   ],
   "source": [
    "learn.recorder.plot(skip_end = 5)"
   ]
  },
  {
   "cell_type": "code",
   "execution_count": 128,
   "metadata": {},
   "outputs": [
    {
     "data": {
      "text/html": [
       "<table border=\"1\" class=\"dataframe\">\n",
       "  <thead>\n",
       "    <tr style=\"text-align: left;\">\n",
       "      <th>epoch</th>\n",
       "      <th>train_loss</th>\n",
       "      <th>valid_loss</th>\n",
       "      <th>time</th>\n",
       "    </tr>\n",
       "  </thead>\n",
       "  <tbody>\n",
       "    <tr>\n",
       "      <td>0</td>\n",
       "      <td>581.696045</td>\n",
       "      <td>102.384911</td>\n",
       "      <td>00:16</td>\n",
       "    </tr>\n",
       "    <tr>\n",
       "      <td>1</td>\n",
       "      <td>134.041428</td>\n",
       "      <td>28.767313</td>\n",
       "      <td>00:16</td>\n",
       "    </tr>\n",
       "    <tr>\n",
       "      <td>2</td>\n",
       "      <td>121.008911</td>\n",
       "      <td>142.814667</td>\n",
       "      <td>00:17</td>\n",
       "    </tr>\n",
       "    <tr>\n",
       "      <td>3</td>\n",
       "      <td>1696.374512</td>\n",
       "      <td>1815.783691</td>\n",
       "      <td>00:16</td>\n",
       "    </tr>\n",
       "    <tr>\n",
       "      <td>4</td>\n",
       "      <td>4717.333496</td>\n",
       "      <td>2566.673340</td>\n",
       "      <td>00:17</td>\n",
       "    </tr>\n",
       "    <tr>\n",
       "      <td>5</td>\n",
       "      <td>4834.590820</td>\n",
       "      <td>1042.310059</td>\n",
       "      <td>00:16</td>\n",
       "    </tr>\n",
       "    <tr>\n",
       "      <td>6</td>\n",
       "      <td>2725.027344</td>\n",
       "      <td>171.057297</td>\n",
       "      <td>00:16</td>\n",
       "    </tr>\n",
       "    <tr>\n",
       "      <td>7</td>\n",
       "      <td>922.589844</td>\n",
       "      <td>37.165691</td>\n",
       "      <td>00:18</td>\n",
       "    </tr>\n",
       "    <tr>\n",
       "      <td>8</td>\n",
       "      <td>157.182770</td>\n",
       "      <td>23.822920</td>\n",
       "      <td>00:16</td>\n",
       "    </tr>\n",
       "    <tr>\n",
       "      <td>9</td>\n",
       "      <td>31.864759</td>\n",
       "      <td>22.661800</td>\n",
       "      <td>00:16</td>\n",
       "    </tr>\n",
       "  </tbody>\n",
       "</table>"
      ],
      "text/plain": [
       "<IPython.core.display.HTML object>"
      ]
     },
     "metadata": {},
     "output_type": "display_data"
    }
   ],
   "source": [
    "learn.fit_one_cycle(10, 0.5)"
   ]
  },
  {
   "cell_type": "code",
   "execution_count": 186,
   "metadata": {},
   "outputs": [
    {
     "data": {
      "text/plain": [
       "EmbeddingDotBias(\n",
       "  (u_weight): Embedding(4527, 40)\n",
       "  (i_weight): Embedding(2110, 40)\n",
       "  (u_bias): Embedding(4527, 1)\n",
       "  (i_bias): Embedding(2110, 1)\n",
       ")"
      ]
     },
     "execution_count": 186,
     "metadata": {},
     "output_type": "execute_result"
    }
   ],
   "source": [
    "m = learn.model\n",
    "m"
   ]
  },
  {
   "cell_type": "code",
   "execution_count": 183,
   "metadata": {},
   "outputs": [],
   "source": [
    "## the embedding gives a sense of the simiarities between the different movies by their citation patterns."
   ]
  },
  {
   "cell_type": "code",
   "execution_count": null,
   "metadata": {},
   "outputs": [],
   "source": [
    "from sklearn.decomposition import PCA\n"
   ]
  },
  {
   "cell_type": "markdown",
   "metadata": {},
   "source": [
    "Fastai library is more suitable for data with varying scale. In this case we have binary data, (either you cited or not, so it may not be very informative). Instead we will follow https://medium.com/radon-dev/item-item-collaborative-filtering-with-binary-or-unary-data-e8f0b465b2c3 "
   ]
  },
  {
   "cell_type": "code",
   "execution_count": 218,
   "metadata": {},
   "outputs": [],
   "source": [
    "temp = temp.pivot(index = 'references', columns = 'id', values = 'rating')"
   ]
  },
  {
   "cell_type": "code",
   "execution_count": 219,
   "metadata": {},
   "outputs": [],
   "source": [
    "temp = temp.fillna(0)"
   ]
  },
  {
   "cell_type": "code",
   "execution_count": 220,
   "metadata": {},
   "outputs": [
    {
     "name": "stdout",
     "output_type": "stream",
     "text": [
      "number of papers citing the other paper: 4864 number of papers being cited: 2167\n"
     ]
    }
   ],
   "source": [
    "print('number of papers citing the other paper:', len(temp.index), 'number of papers being cited:', len(temp.columns))"
   ]
  },
  {
   "cell_type": "code",
   "execution_count": 242,
   "metadata": {},
   "outputs": [],
   "source": [
    "### Compute Similarity "
   ]
  },
  {
   "cell_type": "code",
   "execution_count": 222,
   "metadata": {},
   "outputs": [],
   "source": [
    "magnitude = np.sqrt(np.square(temp).sum(axis=1))"
   ]
  },
  {
   "cell_type": "code",
   "execution_count": 259,
   "metadata": {},
   "outputs": [],
   "source": [
    "temp = temp.divide(magnitude, axis='index')"
   ]
  },
  {
   "cell_type": "code",
   "execution_count": 260,
   "metadata": {},
   "outputs": [],
   "source": [
    "def calculate_similarity(data_items):\n",
    "    \"\"\"Calculate the column-wise cosine similarity for a sparse\n",
    "    matrix. Return a new dataframe matrix with similarities.\n",
    "    \"\"\"\n",
    "    data_sparse = sparse.csr_matrix(data_items)\n",
    "    similarities = cosine_similarity(data_sparse.transpose())\n",
    "    sim = pd.DataFrame(data=similarities, index= data_items.columns, columns= data_items.columns)\n",
    "    return sim"
   ]
  },
  {
   "cell_type": "code",
   "execution_count": 261,
   "metadata": {},
   "outputs": [],
   "source": [
    "#transposing the matrix such that we use a paper's citation pattern (not how it is being cited) to calculate similarity\n",
    "data_matrix = calculate_similarity(temp)"
   ]
  },
  {
   "cell_type": "code",
   "execution_count": 263,
   "metadata": {},
   "outputs": [],
   "source": [
    "#merge the data matrix with df so we know the name of the paper and the meta data\n",
    "\n",
    "df_comp = pd.merge(data_matrix, df, left_index = True, right_on = 'id')"
   ]
  },
  {
   "cell_type": "markdown",
   "metadata": {},
   "source": [
    "This paper that is most similar to other papers:"
   ]
  },
  {
   "cell_type": "code",
   "execution_count": 265,
   "metadata": {},
   "outputs": [
    {
     "data": {
      "text/html": [
       "<div>\n",
       "<style scoped>\n",
       "    .dataframe tbody tr th:only-of-type {\n",
       "        vertical-align: middle;\n",
       "    }\n",
       "\n",
       "    .dataframe tbody tr th {\n",
       "        vertical-align: top;\n",
       "    }\n",
       "\n",
       "    .dataframe thead th {\n",
       "        text-align: right;\n",
       "    }\n",
       "</style>\n",
       "<table border=\"1\" class=\"dataframe\">\n",
       "  <thead>\n",
       "    <tr style=\"text-align: right;\">\n",
       "      <th></th>\n",
       "      <th>0013b2b5-4c86-43c0-aa1e-fa6dc5a6a6dd</th>\n",
       "      <th>id</th>\n",
       "      <th>title</th>\n",
       "      <th>abstract</th>\n",
       "    </tr>\n",
       "  </thead>\n",
       "  <tbody>\n",
       "    <tr>\n",
       "      <th>774042</th>\n",
       "      <td>1.000000</td>\n",
       "      <td>0013b2b5-4c86-43c0-aa1e-fa6dc5a6a6dd</td>\n",
       "      <td>Hurwicz expected utility and subjective sources</td>\n",
       "      <td>In experiments, subjects are often not indiffe...</td>\n",
       "    </tr>\n",
       "    <tr>\n",
       "      <th>241038</th>\n",
       "      <td>0.719490</td>\n",
       "      <td>9ab62e30-9124-4aa8-8bff-95d572e19f34</td>\n",
       "      <td>Parametric representation of preferences</td>\n",
       "      <td>A preference is invariant with respect to a se...</td>\n",
       "    </tr>\n",
       "    <tr>\n",
       "      <th>442739</th>\n",
       "      <td>0.483677</td>\n",
       "      <td>b249b304-8442-4de4-be89-b7a0bbfaf381</td>\n",
       "      <td>Confidence and decision</td>\n",
       "      <td>Many real-life decisions have to be taken on t...</td>\n",
       "    </tr>\n",
       "    <tr>\n",
       "      <th>445995</th>\n",
       "      <td>0.228501</td>\n",
       "      <td>dece2335-936c-4132-8fdb-95e02c855da0</td>\n",
       "      <td>Aggregation of multiple prior opinions</td>\n",
       "      <td>Experts are asked to provide their advice in a...</td>\n",
       "    </tr>\n",
       "    <tr>\n",
       "      <th>459818</th>\n",
       "      <td>0.192537</td>\n",
       "      <td>e36bc90d-ae71-4b6d-aae2-6a7d789d11a2</td>\n",
       "      <td>Mean-Dispersion Preferences and Constant Absol...</td>\n",
       "      <td>We axiomatize, in an Anscombe–Aumann framework...</td>\n",
       "    </tr>\n",
       "    <tr>\n",
       "      <th>450437</th>\n",
       "      <td>0.151980</td>\n",
       "      <td>b41864e2-b6f1-4514-a592-160a75d95e25</td>\n",
       "      <td>A two-parameter model of dispersion aversion</td>\n",
       "      <td>The idea of representing choice under uncertai...</td>\n",
       "    </tr>\n",
       "    <tr>\n",
       "      <th>773870</th>\n",
       "      <td>0.141521</td>\n",
       "      <td>15d94138-8542-4389-acba-03a6c4414ebf</td>\n",
       "      <td>Imprecise probabilistic beliefs as a context f...</td>\n",
       "      <td>Coherent imprecise probabilistic beliefs are m...</td>\n",
       "    </tr>\n",
       "    <tr>\n",
       "      <th>840209</th>\n",
       "      <td>0.140303</td>\n",
       "      <td>15dbbdb0-60c5-42e4-9f99-248e03685c9f</td>\n",
       "      <td>When does aggregation reduce risk aversion</td>\n",
       "      <td>We study the problem of risk sharing within a ...</td>\n",
       "    </tr>\n",
       "    <tr>\n",
       "      <th>938982</th>\n",
       "      <td>0.098655</td>\n",
       "      <td>3c637a2f-13e1-4785-a693-f454c12788e0</td>\n",
       "      <td>Relative concave utility for risk and ambiguity</td>\n",
       "      <td>This paper presents a general technique for co...</td>\n",
       "    </tr>\n",
       "    <tr>\n",
       "      <th>121559</th>\n",
       "      <td>0.083188</td>\n",
       "      <td>6702ecf2-0a94-480d-9006-9ceef89b4da3</td>\n",
       "      <td>Uncertainty Averse Preferences</td>\n",
       "      <td>We study uncertainty averse preferences, that ...</td>\n",
       "    </tr>\n",
       "    <tr>\n",
       "      <th>520221</th>\n",
       "      <td>0.079999</td>\n",
       "      <td>f79fb26f-74f7-4940-88dd-353a402459e8</td>\n",
       "      <td>Small worlds: Modeling attitudes toward source...</td>\n",
       "      <td>We introduce the concept of a conditional smal...</td>\n",
       "    </tr>\n",
       "  </tbody>\n",
       "</table>\n",
       "</div>"
      ],
      "text/plain": [
       "        0013b2b5-4c86-43c0-aa1e-fa6dc5a6a6dd  \\\n",
       "774042                              1.000000   \n",
       "241038                              0.719490   \n",
       "442739                              0.483677   \n",
       "445995                              0.228501   \n",
       "459818                              0.192537   \n",
       "450437                              0.151980   \n",
       "773870                              0.141521   \n",
       "840209                              0.140303   \n",
       "938982                              0.098655   \n",
       "121559                              0.083188   \n",
       "520221                              0.079999   \n",
       "\n",
       "                                          id  \\\n",
       "774042  0013b2b5-4c86-43c0-aa1e-fa6dc5a6a6dd   \n",
       "241038  9ab62e30-9124-4aa8-8bff-95d572e19f34   \n",
       "442739  b249b304-8442-4de4-be89-b7a0bbfaf381   \n",
       "445995  dece2335-936c-4132-8fdb-95e02c855da0   \n",
       "459818  e36bc90d-ae71-4b6d-aae2-6a7d789d11a2   \n",
       "450437  b41864e2-b6f1-4514-a592-160a75d95e25   \n",
       "773870  15d94138-8542-4389-acba-03a6c4414ebf   \n",
       "840209  15dbbdb0-60c5-42e4-9f99-248e03685c9f   \n",
       "938982  3c637a2f-13e1-4785-a693-f454c12788e0   \n",
       "121559  6702ecf2-0a94-480d-9006-9ceef89b4da3   \n",
       "520221  f79fb26f-74f7-4940-88dd-353a402459e8   \n",
       "\n",
       "                                                    title  \\\n",
       "774042    Hurwicz expected utility and subjective sources   \n",
       "241038           Parametric representation of preferences   \n",
       "442739                            Confidence and decision   \n",
       "445995             Aggregation of multiple prior opinions   \n",
       "459818  Mean-Dispersion Preferences and Constant Absol...   \n",
       "450437       A two-parameter model of dispersion aversion   \n",
       "773870  Imprecise probabilistic beliefs as a context f...   \n",
       "840209         When does aggregation reduce risk aversion   \n",
       "938982    Relative concave utility for risk and ambiguity   \n",
       "121559                     Uncertainty Averse Preferences   \n",
       "520221  Small worlds: Modeling attitudes toward source...   \n",
       "\n",
       "                                                 abstract  \n",
       "774042  In experiments, subjects are often not indiffe...  \n",
       "241038  A preference is invariant with respect to a se...  \n",
       "442739  Many real-life decisions have to be taken on t...  \n",
       "445995  Experts are asked to provide their advice in a...  \n",
       "459818  We axiomatize, in an Anscombe–Aumann framework...  \n",
       "450437  The idea of representing choice under uncertai...  \n",
       "773870  Coherent imprecise probabilistic beliefs are m...  \n",
       "840209  We study the problem of risk sharing within a ...  \n",
       "938982  This paper presents a general technique for co...  \n",
       "121559  We study uncertainty averse preferences, that ...  \n",
       "520221  We introduce the concept of a conditional smal...  "
      ]
     },
     "execution_count": 265,
     "metadata": {},
     "output_type": "execute_result"
    }
   ],
   "source": [
    "result = pd.merge(pd.DataFrame(data_matrix.loc['0013b2b5-4c86-43c0-aa1e-fa6dc5a6a6dd'].nlargest(11)),\n",
    "         df_comp[['id','title','abstract']],\n",
    "         left_index = True,\n",
    "         right_on = 'id')\n"
   ]
  },
  {
   "cell_type": "code",
   "execution_count": 152,
   "metadata": {},
   "outputs": [
    {
     "data": {
      "text/plain": [
       "2167"
      ]
     },
     "execution_count": 152,
     "metadata": {},
     "output_type": "execute_result"
    }
   ],
   "source": [
    "len(data_matrix)"
   ]
  },
  {
   "cell_type": "code",
   "execution_count": 181,
   "metadata": {},
   "outputs": [],
   "source": [
    "### what about for papers that the model has not seen?\n",
    "### we can build a text similarity mechanism"
   ]
  },
  {
   "cell_type": "code",
   "execution_count": 205,
   "metadata": {},
   "outputs": [],
   "source": [
    "# concat all text to calculate similarity using Jaccard Index\n",
    "df['text'] = df['abstract'] + df['title'] + df['venue'] "
   ]
  },
  {
   "cell_type": "code",
   "execution_count": 206,
   "metadata": {},
   "outputs": [],
   "source": [
    "def get_jaccard_sim(str1, str2): \n",
    "    a = set(str1.split()) \n",
    "    b = set(str2.split())\n",
    "    c = a.intersection(b)\n",
    "    return float(len(c)) / (len(a) + len(b) - len(c))"
   ]
  },
  {
   "cell_type": "code",
   "execution_count": null,
   "metadata": {},
   "outputs": [],
   "source": [
    "#how to limit the search set? it doesn't make sense to calculate the jaccard distance for all papers in the data, and then recommend the movies with the highest index values."
   ]
  },
  {
   "cell_type": "code",
   "execution_count": null,
   "metadata": {},
   "outputs": [],
   "source": []
  },
  {
   "cell_type": "code",
   "execution_count": null,
   "metadata": {},
   "outputs": [],
   "source": []
  },
  {
   "cell_type": "code",
   "execution_count": null,
   "metadata": {},
   "outputs": [],
   "source": []
  },
  {
   "cell_type": "code",
   "execution_count": null,
   "metadata": {},
   "outputs": [],
   "source": []
  }
 ],
 "metadata": {
  "kernelspec": {
   "display_name": "Python 3",
   "language": "python",
   "name": "python3"
  },
  "language_info": {
   "codemirror_mode": {
    "name": "ipython",
    "version": 3
   },
   "file_extension": ".py",
   "mimetype": "text/x-python",
   "name": "python",
   "nbconvert_exporter": "python",
   "pygments_lexer": "ipython3",
   "version": "3.7.2"
  }
 },
 "nbformat": 4,
 "nbformat_minor": 2
}
